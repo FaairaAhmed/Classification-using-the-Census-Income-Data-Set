{
 "cells": [
  {
   "cell_type": "markdown",
   "id": "bc5e83b3",
   "metadata": {},
   "source": [
    "Libraries"
   ]
  },
  {
   "cell_type": "code",
   "execution_count": 7,
   "id": "dc23c277",
   "metadata": {},
   "outputs": [],
   "source": [
    "import numpy as np\n",
    "import pandas as pd\n",
    "from sklearn.preprocessing import MinMaxScaler\n",
    "from sklearn.metrics import accuracy_score\n",
    "from sklearn.metrics import confusion_matrix\n",
    "from sklearn.metrics import f1_score\n",
    "from sklearn.neighbors import KNeighborsClassifier\n",
    "from sklearn.linear_model import LogisticRegression\n",
    "from sklearn.naive_bayes import GaussianNB"
   ]
  },
  {
   "cell_type": "markdown",
   "id": "d9b6f280",
   "metadata": {},
   "source": [
    "Reading training and test data"
   ]
  },
  {
   "cell_type": "code",
   "execution_count": 8,
   "id": "56a3d7ce",
   "metadata": {},
   "outputs": [],
   "source": [
    "column=['age', 'workclass', 'fnlwgt', 'education', 'education_num','marital_status', 'occupation', 'relationship', 'race', 'sex', 'capital_gain', 'capital_loss', 'hours_per_week', 'native_country', 'income']\n",
    "train_data = pd.read_csv('adult.data', names=column)\n",
    "test_data = pd.read_csv('adult.test', names=column)"
   ]
  },
  {
   "cell_type": "markdown",
   "id": "d42ecb03",
   "metadata": {},
   "source": [
    "Displaying data"
   ]
  },
  {
   "cell_type": "code",
   "execution_count": 23,
   "id": "135cbaa0",
   "metadata": {},
   "outputs": [
    {
     "name": "stdout",
     "output_type": "stream",
     "text": [
      "training data\n",
      "\n",
      "   age  fnlwgt  education_num  capital_gain  capital_loss  hours_per_week  \\\n",
      "0   39   77516             13          2174             0              40   \n",
      "1   50   83311             13             0             0              13   \n",
      "2   38  215646              9             0             0              40   \n",
      "3   53  234721              7             0             0              40   \n",
      "4   28  338409             13             0             0              40   \n",
      "\n",
      "   income  workclass_?  workclass_Federal-gov  workclass_Local-gov  ...  \\\n",
      "0       0            0                      0                    0  ...   \n",
      "1       0            0                      0                    0  ...   \n",
      "2       0            0                      0                    0  ...   \n",
      "3       0            0                      0                    0  ...   \n",
      "4       0            0                      0                    0  ...   \n",
      "\n",
      "   native_country_Portugal  native_country_Puerto-Rico  \\\n",
      "0                        0                           0   \n",
      "1                        0                           0   \n",
      "2                        0                           0   \n",
      "3                        0                           0   \n",
      "4                        0                           0   \n",
      "\n",
      "   native_country_Scotland  native_country_South  native_country_Taiwan  \\\n",
      "0                        0                     0                      0   \n",
      "1                        0                     0                      0   \n",
      "2                        0                     0                      0   \n",
      "3                        0                     0                      0   \n",
      "4                        0                     0                      0   \n",
      "\n",
      "   native_country_Thailand  native_country_Trinadad&Tobago  \\\n",
      "0                        0                               0   \n",
      "1                        0                               0   \n",
      "2                        0                               0   \n",
      "3                        0                               0   \n",
      "4                        0                               0   \n",
      "\n",
      "   native_country_United-States  native_country_Vietnam  \\\n",
      "0                             1                       0   \n",
      "1                             1                       0   \n",
      "2                             1                       0   \n",
      "3                             1                       0   \n",
      "4                             0                       0   \n",
      "\n",
      "   native_country_Yugoslavia  \n",
      "0                          0  \n",
      "1                          0  \n",
      "2                          0  \n",
      "3                          0  \n",
      "4                          0  \n",
      "\n",
      "[5 rows x 93 columns]\n",
      "testing data\n",
      "\n",
      "   age  fnlwgt  education_num  capital_gain  capital_loss  hours_per_week  \\\n",
      "0   25  226802              7             0             0              40   \n",
      "1   38   89814              9             0             0              50   \n",
      "2   28  336951             12             0             0              40   \n",
      "3   44  160323             10          7688             0              40   \n",
      "4   18  103497             10             0             0              30   \n",
      "\n",
      "   income  workclass_?  workclass_Federal-gov  workclass_Local-gov  ...  \\\n",
      "0       0            0                      0                    0  ...   \n",
      "1       0            0                      0                    0  ...   \n",
      "2       1            0                      0                    1  ...   \n",
      "3       1            0                      0                    0  ...   \n",
      "4       0            1                      0                    0  ...   \n",
      "\n",
      "   native_country_Portugal  native_country_Puerto-Rico  \\\n",
      "0                        0                           0   \n",
      "1                        0                           0   \n",
      "2                        0                           0   \n",
      "3                        0                           0   \n",
      "4                        0                           0   \n",
      "\n",
      "   native_country_Scotland  native_country_South  native_country_Taiwan  \\\n",
      "0                        0                     0                      0   \n",
      "1                        0                     0                      0   \n",
      "2                        0                     0                      0   \n",
      "3                        0                     0                      0   \n",
      "4                        0                     0                      0   \n",
      "\n",
      "   native_country_Thailand  native_country_Trinadad&Tobago  \\\n",
      "0                        0                               0   \n",
      "1                        0                               0   \n",
      "2                        0                               0   \n",
      "3                        0                               0   \n",
      "4                        0                               0   \n",
      "\n",
      "   native_country_United-States  native_country_Vietnam  \\\n",
      "0                             1                       0   \n",
      "1                             1                       0   \n",
      "2                             1                       0   \n",
      "3                             1                       0   \n",
      "4                             1                       0   \n",
      "\n",
      "   native_country_Yugoslavia  \n",
      "0                          0  \n",
      "1                          0  \n",
      "2                          0  \n",
      "3                          0  \n",
      "4                          0  \n",
      "\n",
      "[5 rows x 92 columns]\n"
     ]
    }
   ],
   "source": [
    "print(\"training data\\n\")\n",
    "print(train_data.head())\n",
    "print(\"testing data\\n\")\n",
    "print(test_data.head())"
   ]
  },
  {
   "cell_type": "markdown",
   "id": "73c30a2a",
   "metadata": {},
   "source": [
    "Training samples data cleaning"
   ]
  },
  {
   "cell_type": "code",
   "execution_count": 9,
   "id": "90e82f6e",
   "metadata": {},
   "outputs": [],
   "source": [
    "#Dropping coloums with duplicte data as both column education and education num contain data of same kind the only difference\n",
    "#is that the data of education is categorical and of education_num is numerical\n",
    "train_data.drop('education', inplace=True, axis=1)\n",
    "columns = ['workclass', 'marital_status', 'occupation', 'relationship', 'race', 'sex', 'native_country', 'income']\n",
    "#removing spaces from data so that data can be accessed easily\n",
    "for column in columns:\n",
    "    train_data[column] = train_data[column].str.strip()\n",
    "#assigning binary lables to the output class \n",
    "train_data['income'] = train_data.income.replace({\"<=50K\": 0, \">50K\": 1})\n",
    "# Using get_dummies to convert the categorical variable/feature to numerical variable\n",
    "train_data = pd.get_dummies(train_data)\n",
    "#splitting in x_train and y_train sets\n",
    "X_train = train_data.drop('income', axis=1)\n",
    "X_train = X_train.drop('native_country_Holand-Netherlands', axis=1)\n",
    "y_train = train_data['income']"
   ]
  },
  {
   "cell_type": "markdown",
   "id": "f3b440cd",
   "metadata": {},
   "source": [
    "Test samples data cleaning"
   ]
  },
  {
   "cell_type": "code",
   "execution_count": 10,
   "id": "4dd017d7",
   "metadata": {},
   "outputs": [],
   "source": [
    "#Dropping coloums with duplicte data as both column education and education num contain data of same kind the only difference\n",
    "#is that the data of education is categorical and of education_num is numerical\n",
    "test_data.drop('education', inplace=True, axis=1)\n",
    "#removing spaces from data so that data can be accessed easily\n",
    "columns = ['workclass', 'marital_status', 'occupation', 'relationship', 'race', 'sex', 'native_country', 'income']\n",
    "for column in columns:\n",
    "    test_data[column] = test_data[column].str.strip()\n",
    "#assigning binary lables to the output class \n",
    "test_data['income'] = test_data.income.replace({\"<=50K.\": 0, \">50K.\": 1})\n",
    "# Using get_dummies to convert the categorical variable/feature to numerical variable\n",
    "test_data = pd.get_dummies(test_data)\n",
    "#splitting in x_test and y_test sets\n",
    "X_test = test_data.drop('income', axis=1)\n",
    "y_test = test_data['income']"
   ]
  },
  {
   "cell_type": "markdown",
   "id": "102dd181",
   "metadata": {},
   "source": [
    "Sklearn KNN"
   ]
  },
  {
   "cell_type": "code",
   "execution_count": 11,
   "id": "ffe70c20",
   "metadata": {},
   "outputs": [
    {
     "name": "stdout",
     "output_type": "stream",
     "text": [
      "KNN classifier\n",
      "Accuracy: 0.7766107732940237\n",
      "Precision: 0.5461776403004861\n",
      "Recall: 0.3213728549141966\n",
      "Specificity: 0.9174105347808604\n",
      "F1-score: 0.40464887870355215\n"
     ]
    }
   ],
   "source": [
    "knn = KNeighborsClassifier(n_neighbors=5)\n",
    "knn.fit(X_train, y_train)\n",
    "predict = knn.predict(X_test)\n",
    "print(\"KNN classifier\")\n",
    "print(f\"Accuracy: {accuracy_score(y_test, predict)}\")\n",
    "tp, fn, fp, tn = confusion_matrix(y_test, predict,labels=[1,0]).reshape(-1)\n",
    "print(\"Precision:\", tp/(tp+fp))\n",
    "print(\"Recall:\", tp/(tp+fn))\n",
    "print(\"Specificity:\", tn/(tn+fp))\n",
    "print(\"F1-score:\", f1_score(y_test, predict))"
   ]
  },
  {
   "cell_type": "markdown",
   "id": "b588da6a",
   "metadata": {},
   "source": [
    "Sklearn Naive Bayes"
   ]
  },
  {
   "cell_type": "code",
   "execution_count": 12,
   "id": "f5f2c8bb",
   "metadata": {},
   "outputs": [
    {
     "name": "stdout",
     "output_type": "stream",
     "text": [
      "Naive Bayes classifier\n",
      "Accuracy: 0.7957742153430379\n",
      "Precision: 0.6427397260273973\n",
      "Recall: 0.3049921996879875\n",
      "Specificity: 0.94756735022115\n",
      "F1-score: 0.41368365367660026\n"
     ]
    }
   ],
   "source": [
    "nb = GaussianNB()\n",
    "nb_fit = nb.fit(X_train,y_train)\n",
    "prdeict = nb_fit.predict(X_test)\n",
    "print(\"Naive Bayes classifier\")\n",
    "print(f\"Accuracy: {accuracy_score(y_test, prdeict)}\")\n",
    "tp, fn, fp, tn = confusion_matrix(y_test, prdeict,labels=[1,0]).reshape(-1)\n",
    "print(\"Precision:\", tp/(tp+fp))\n",
    "print(\"Recall:\", tp/(tp+fn))\n",
    "print(\"Specificity:\", tn/(tn+fp))\n",
    "print(\"F1-score:\", f1_score(y_test, prdeict))"
   ]
  },
  {
   "cell_type": "markdown",
   "id": "1f00aecc",
   "metadata": {},
   "source": [
    "Sklearn Logistic Regression "
   ]
  },
  {
   "cell_type": "code",
   "execution_count": 13,
   "id": "916c7111",
   "metadata": {},
   "outputs": [
    {
     "name": "stdout",
     "output_type": "stream",
     "text": [
      "Logistic Regression classifier\n",
      "Accuracy: 0.7978011178674529\n",
      "Precision: 0.6915629322268326\n",
      "Recall: 0.26001040041601664\n",
      "Specificity: 0.9641334941696823\n",
      "F1-score: 0.37792894935752075\n"
     ]
    }
   ],
   "source": [
    "lr = LogisticRegression()\n",
    "lr.fit(X_train, y_train)\n",
    "predict = lr.predict(X_test)\n",
    "print(\"Logistic Regression classifier\")\n",
    "print(f\"Accuracy: {accuracy_score(y_test, predict)}\")\n",
    "tp, fn, fp, tn = confusion_matrix(y_test, predict,labels=[1,0]).reshape(-1)\n",
    "print(\"Precision:\", tp/(tp+fp))\n",
    "print(\"Recall:\", tp/(tp+fn))\n",
    "print(\"Specificity:\", tn/(tn+fp))\n",
    "print(\"F1-score:\", f1_score(y_test, predict))"
   ]
  },
  {
   "cell_type": "markdown",
   "id": "6e8e07e8",
   "metadata": {},
   "source": [
    "Logistic Regression Model from scratch"
   ]
  },
  {
   "cell_type": "code",
   "execution_count": 21,
   "id": "60b71e91",
   "metadata": {},
   "outputs": [
    {
     "name": "stdout",
     "output_type": "stream",
     "text": [
      "Accuracy: 0.7637737239727289\n"
     ]
    }
   ],
   "source": [
    "def train(x,y,iteration,lr):\n",
    "    m,n = x.shape\n",
    "    w = np.zeros(n)      \n",
    "    b=0\n",
    "    for i in range(iteration):            \n",
    "        update_weights(m,n,w,b,x,y,lr)     \n",
    "    return w,x,b\n",
    "\n",
    "def update_weights(m,n,w,b,X,Y,lr):\n",
    "    #wx+b\n",
    "    wxb = X.dot(w) + b\n",
    "    #taking exp\n",
    "    exp_wxb = np.exp(- wxb)\n",
    "    inv = 1/(1+exp_wxb)\n",
    "    \n",
    "    #gradient calculation\n",
    "    g = inv - Y.T\n",
    "    res = np.reshape(g,m)\n",
    "    dw = np.dot(X.T, res)\n",
    "    dw /= m\n",
    "    db = np.sum(res) / m\n",
    "    \n",
    "    #weight updation\n",
    "    w = w - lr * dw   \n",
    "    b = b - lr * db\n",
    "\n",
    "def predict( w,X,b ) :    \n",
    "    #wx+b\n",
    "    wxb = X.dot(w) + b\n",
    "    #taking exp\n",
    "    exp_wxb = np.exp(- wxb)\n",
    "    inv = 1/(1+exp_wxb)  \n",
    "    res = np.where( inv > 0.5, 1, 0 )        \n",
    "    return res\n",
    "    \n",
    "w,x,b=train( X_train, y_train,100,0.01 )    \n",
    "prediction = predict(w,X_test,b)  \n",
    "print(f\"Accuracy: {accuracy_score(y_test, prediction)}\") "
   ]
  },
  {
   "cell_type": "markdown",
   "id": "022f3d60",
   "metadata": {},
   "source": [
    "# Comparative Analysis\n",
    "\n",
    "Logistic regression classifier produces the maximum accuracy for the given census income dataset. Logistic regression classifier implemented from scratch also produces good results which are almost similar to the ones produced by the sklearn model which is an accuracy of 76%. \n",
    "\n",
    "Evaluation of all three models have been drawn using the evaluation metrics accuracy,precision,recall,f1 score and specificity. Confusion matrix is obtained and on the basis of the true positives,true negatives, false positives and false negatives obtained we can see that the logistic regression has the max precision of 0.69 which tells us that the model has classified the actual labels 1 correctly for most cases. Similarly naive bayes has the highest recall value and logistic regression has the lowest. As 1 F1-score is the best and our model naives bayes produces the max f1 score of 0.41 out of the three models which tells us that naive bayes classifier worked best in classification of both the classes that is income > 50k and income <= 50k correctly."
   ]
  }
 ],
 "metadata": {
  "kernelspec": {
   "display_name": "Python 3 (ipykernel)",
   "language": "python",
   "name": "python3"
  },
  "language_info": {
   "codemirror_mode": {
    "name": "ipython",
    "version": 3
   },
   "file_extension": ".py",
   "mimetype": "text/x-python",
   "name": "python",
   "nbconvert_exporter": "python",
   "pygments_lexer": "ipython3",
   "version": "3.9.7"
  }
 },
 "nbformat": 4,
 "nbformat_minor": 5
}
